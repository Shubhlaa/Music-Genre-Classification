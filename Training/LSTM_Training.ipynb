{
  "nbformat": 4,
  "nbformat_minor": 0,
  "metadata": {
    "colab": {
      "provenance": [],
      "mount_file_id": "1ZMcrZfXXLktaw0Gytm07r5SLw3-m5DzT",
      "authorship_tag": "ABX9TyMUsYT5z8e1GlGG1ugKPfFH",
      "include_colab_link": true
    },
    "kernelspec": {
      "name": "python3",
      "display_name": "Python 3"
    },
    "language_info": {
      "name": "python"
    },
    "accelerator": "GPU",
    "gpuClass": "standard"
  },
  "cells": [
    {
      "cell_type": "markdown",
      "metadata": {
        "id": "view-in-github",
        "colab_type": "text"
      },
      "source": [
        "<a href=\"https://colab.research.google.com/github/SmartNandini/Music_Genre/blob/main/Training/LSTM_Training.ipynb\" target=\"_parent\"><img src=\"https://colab.research.google.com/assets/colab-badge.svg\" alt=\"Open In Colab\"/></a>"
      ]
    },
    {
      "cell_type": "code",
      "execution_count": 1,
      "metadata": {
        "id": "LvYHBH3jxDPr"
      },
      "outputs": [],
      "source": [
        "import json\n",
        "import numpy as np\n",
        "from sklearn.model_selection import train_test_split\n",
        "import keras\n",
        "import matplotlib.pyplot as plt\n",
        "import random\n",
        "import librosa\n",
        "import math"
      ]
    },
    {
      "cell_type": "code",
      "source": [
        "def load_data(data_path):\n",
        "\n",
        "    with open(data_path, \"r\") as f:\n",
        "        data = json.load(f)\n",
        "\n",
        "    # convert lists to numpy arrays\n",
        "    X = np.array(data[\"mfcc\"])\n",
        "    y = np.array(data[\"labels\"])\n",
        "    mapping = data[\"mapping\"]\n",
        "\n",
        "    print(\"Data succesfully loaded!\")\n",
        "\n",
        "    return  X, y, mapping\n",
        "     "
      ],
      "metadata": {
        "id": "PhlXiyZ7xMsS"
      },
      "execution_count": 2,
      "outputs": []
    },
    {
      "cell_type": "code",
      "source": [
        "# path to json\n",
        "DATA_PATH = \"/content/drive/MyDrive/Music_Genre_Dataset/mfcc_data.json\"\n",
        "    \n",
        "# load data\n",
        "X, y, mapping = load_data(DATA_PATH)"
      ],
      "metadata": {
        "id": "oZDa31TAxvNb",
        "colab": {
          "base_uri": "https://localhost:8080/"
        },
        "outputId": "dd4983c9-fd7f-4c97-fd55-9888ca147cf1"
      },
      "execution_count": 3,
      "outputs": [
        {
          "output_type": "stream",
          "name": "stdout",
          "text": [
            "Data succesfully loaded!\n"
          ]
        }
      ]
    },
    {
      "cell_type": "code",
      "source": [
        "X.shape"
      ],
      "metadata": {
        "id": "yMxoIDhCx2e1",
        "colab": {
          "base_uri": "https://localhost:8080/"
        },
        "outputId": "6b8e511d-ee7f-4baa-e7f6-db17b363f2b5"
      },
      "execution_count": 4,
      "outputs": [
        {
          "output_type": "execute_result",
          "data": {
            "text/plain": [
              "(9986, 130, 13)"
            ]
          },
          "metadata": {},
          "execution_count": 4
        }
      ]
    },
    {
      "cell_type": "code",
      "source": [
        "y.shape"
      ],
      "metadata": {
        "colab": {
          "base_uri": "https://localhost:8080/"
        },
        "id": "Czcr-WMVVy0a",
        "outputId": "142c9cf1-003c-47d9-e559-ec9c42add0fa"
      },
      "execution_count": 5,
      "outputs": [
        {
          "output_type": "execute_result",
          "data": {
            "text/plain": [
              "(9986,)"
            ]
          },
          "metadata": {},
          "execution_count": 5
        }
      ]
    },
    {
      "cell_type": "code",
      "source": [
        "mapping"
      ],
      "metadata": {
        "colab": {
          "base_uri": "https://localhost:8080/"
        },
        "id": "POQ7rY8gV1Nq",
        "outputId": "d2bebd01-57f7-4419-8a2c-7b7bff1eb15f"
      },
      "execution_count": 6,
      "outputs": [
        {
          "output_type": "execute_result",
          "data": {
            "text/plain": [
              "['reggae',\n",
              " 'disco',\n",
              " 'jazz',\n",
              " '.ipynb_checkpoints',\n",
              " 'rock',\n",
              " 'classical',\n",
              " 'hiphop',\n",
              " 'blues',\n",
              " 'pop',\n",
              " 'country',\n",
              " 'metal']"
            ]
          },
          "metadata": {},
          "execution_count": 6
        }
      ]
    },
    {
      "cell_type": "code",
      "source": [
        "def plot_history(history):\n",
        "\n",
        "    fig, axs = plt.subplots(2)\n",
        "\n",
        "    # create accuracy sublpot\n",
        "    axs[0].plot(history.history[\"accuracy\"], label=\"train accuracy\")\n",
        "    axs[0].plot(history.history[\"val_accuracy\"], label=\"test accuracy\")\n",
        "    axs[0].set_ylabel(\"Accuracy\")\n",
        "    axs[0].legend(loc=\"lower right\")\n",
        "    axs[0].set_title(\"Accuracy eval\")\n",
        "\n",
        "    # create error sublpot\n",
        "    axs[1].plot(history.history[\"loss\"], label=\"train error\")\n",
        "    axs[1].plot(history.history[\"val_loss\"], label=\"test error\")\n",
        "    axs[1].set_ylabel(\"Error\")\n",
        "    axs[1].set_xlabel(\"Epoch\")\n",
        "    axs[1].legend(loc=\"upper right\")\n",
        "    axs[1].set_title(\"Error eval\")\n",
        "    \n",
        "    plt.show()\n",
        "     "
      ],
      "metadata": {
        "id": "YP8hI-6tyDnI"
      },
      "execution_count": 7,
      "outputs": []
    },
    {
      "cell_type": "code",
      "source": [
        "# create train, validation and test split\n",
        "X_train, X_test, y_train, y_test = train_test_split(X, y, test_size=0.25, random_state = 10)\n",
        "X_train, X_validation, y_train, y_validation = train_test_split(X_train, y_train, test_size=0.2)\n",
        "\n",
        "# add an axis to input sets\n",
        "X_train = X_train[..., np.newaxis]\n",
        "X_validation = X_validation[..., np.newaxis]\n",
        "X_test = X_test[..., np.newaxis]\n",
        "     \n",
        "\n",
        "X_train.shape"
      ],
      "metadata": {
        "id": "-BFZSjmyyEaH",
        "colab": {
          "base_uri": "https://localhost:8080/"
        },
        "outputId": "eba49133-cb07-4f54-d53f-bb0d2a31cfb2"
      },
      "execution_count": 8,
      "outputs": [
        {
          "output_type": "execute_result",
          "data": {
            "text/plain": [
              "(5991, 130, 13, 1)"
            ]
          },
          "metadata": {},
          "execution_count": 8
        }
      ]
    },
    {
      "cell_type": "code",
      "source": [
        "input_shape = (X_train.shape[1], X_train.shape[2])\n",
        "#input_shape_cnn = (X_train.shape[2], 1)\n",
        "\"\"\"\n",
        "# build the CNN\n",
        "model_cnn = keras.Sequential()\n",
        "\n",
        "# 1st conv layer\n",
        "model_cnn.add(keras.layers.Conv2D(32, (3, 3), activation='relu', use_bias = True, input_shape=input_shape_cnn))\n",
        "model_cnn.add(keras.layers.MaxPooling2D((2, 2), strides=(1, 1), padding='same'))\n",
        "#model_cnn.add(keras.layers.BatchNormalization())\n",
        "\n",
        "# 2nd conv layer\n",
        "model_cnn.add(keras.layers.Conv2D(32, (3, 3), activation='relu', use_bias = True))\n",
        "model_cnn.add(keras.layers.MaxPooling2D((2, 2), strides=(1, 1), padding='same'))\n",
        "#model_cnn.add(keras.layers.BatchNormalization())\n",
        "\n",
        "# 3rd conv layer\n",
        "model_cnn.add(keras.layers.Conv2D(32, (2, 2), activation='relu', use_bias = True))\n",
        "model_cnn.add(keras.layers.MaxPooling2D((2, 2), strides=(2, 2), padding='same'))\n",
        "#model_cnn.add(keras.layers.BatchNormalization())\n",
        "\n",
        "\n",
        "\n",
        "# flatten output and feed it into dense layer\n",
        "model_cnn.add(keras.layers.Flatten())\n",
        "\"\"\"\n",
        "\n",
        "model = keras.Sequential()\n",
        "#model.add(keras.layers.TimeDistributed(model_cnn, input_shape=input_shape))\n",
        "model.add(keras.layers.LSTM(64, input_shape=input_shape, return_sequences = True))\n",
        "model.add(keras.layers.LSTM(64))\n",
        "model.add(keras.layers.Dense(32, activation='relu'))\n",
        "#model.add(keras.layers.Dropout(0.3))\n",
        "\n",
        "\n",
        "# output layer\n",
        "model.add(keras.layers.Dense(12, activation='softmax'))\n",
        "     \n",
        "\n",
        "\n",
        "\n",
        "# compile model\n",
        "opt = keras.optimizers.Adam(learning_rate=0.001)\n",
        "opt1 = keras.optimizers.RMSprop()\n",
        "model.compile(optimizer=opt,\n",
        "              loss='sparse_categorical_crossentropy',\n",
        "              metrics=['accuracy'])\n",
        "     \n",
        "\n",
        "#model.build(input_shape)\n",
        "model.summary()"
      ],
      "metadata": {
        "id": "ltJKdGOsyK9g",
        "colab": {
          "base_uri": "https://localhost:8080/"
        },
        "outputId": "97af91b3-d439-4949-c270-670642758b84"
      },
      "execution_count": 14,
      "outputs": [
        {
          "output_type": "stream",
          "name": "stdout",
          "text": [
            "Model: \"sequential_2\"\n",
            "_________________________________________________________________\n",
            " Layer (type)                Output Shape              Param #   \n",
            "=================================================================\n",
            " lstm_4 (LSTM)               (None, 130, 64)           19968     \n",
            "                                                                 \n",
            " lstm_5 (LSTM)               (None, 64)                33024     \n",
            "                                                                 \n",
            " dense_4 (Dense)             (None, 32)                2080      \n",
            "                                                                 \n",
            " dense_5 (Dense)             (None, 12)                396       \n",
            "                                                                 \n",
            "=================================================================\n",
            "Total params: 55,468\n",
            "Trainable params: 55,468\n",
            "Non-trainable params: 0\n",
            "_________________________________________________________________\n"
          ]
        }
      ]
    },
    {
      "cell_type": "code",
      "source": [
        "# train model\n",
        "history = model.fit(X_train, y_train, validation_data=(X_validation, y_validation), batch_size=32, epochs=50)"
      ],
      "metadata": {
        "id": "z0b5CjFMyPWq",
        "colab": {
          "base_uri": "https://localhost:8080/"
        },
        "outputId": "0b0b52fd-cd2c-4243-c504-e6e89999d9d4"
      },
      "execution_count": 15,
      "outputs": [
        {
          "output_type": "stream",
          "name": "stdout",
          "text": [
            "Epoch 1/50\n",
            "188/188 [==============================] - 7s 16ms/step - loss: 1.7939 - accuracy: 0.3719 - val_loss: 1.5283 - val_accuracy: 0.4499\n",
            "Epoch 2/50\n",
            "188/188 [==============================] - 2s 12ms/step - loss: 1.3993 - accuracy: 0.4967 - val_loss: 1.3226 - val_accuracy: 0.5254\n",
            "Epoch 3/50\n",
            "188/188 [==============================] - 2s 12ms/step - loss: 1.2760 - accuracy: 0.5343 - val_loss: 1.3890 - val_accuracy: 0.5047\n",
            "Epoch 4/50\n",
            "188/188 [==============================] - 2s 12ms/step - loss: 1.2569 - accuracy: 0.5485 - val_loss: 1.2865 - val_accuracy: 0.5347\n",
            "Epoch 5/50\n",
            "188/188 [==============================] - 3s 16ms/step - loss: 1.1610 - accuracy: 0.5874 - val_loss: 1.1595 - val_accuracy: 0.5828\n",
            "Epoch 6/50\n",
            "188/188 [==============================] - 2s 13ms/step - loss: 1.0871 - accuracy: 0.6134 - val_loss: 1.1085 - val_accuracy: 0.5928\n",
            "Epoch 7/50\n",
            "188/188 [==============================] - 2s 12ms/step - loss: 1.0212 - accuracy: 0.6358 - val_loss: 1.0784 - val_accuracy: 0.6068\n",
            "Epoch 8/50\n",
            "188/188 [==============================] - 2s 12ms/step - loss: 0.9649 - accuracy: 0.6597 - val_loss: 1.0348 - val_accuracy: 0.6355\n",
            "Epoch 9/50\n",
            "188/188 [==============================] - 2s 12ms/step - loss: 0.9047 - accuracy: 0.6854 - val_loss: 0.9955 - val_accuracy: 0.6395\n",
            "Epoch 10/50\n",
            "188/188 [==============================] - 3s 14ms/step - loss: 0.8474 - accuracy: 0.7021 - val_loss: 0.9594 - val_accuracy: 0.6569\n",
            "Epoch 11/50\n",
            "188/188 [==============================] - 3s 16ms/step - loss: 0.7947 - accuracy: 0.7238 - val_loss: 0.9063 - val_accuracy: 0.6789\n",
            "Epoch 12/50\n",
            "188/188 [==============================] - 2s 12ms/step - loss: 0.7135 - accuracy: 0.7558 - val_loss: 0.9140 - val_accuracy: 0.6883\n",
            "Epoch 13/50\n",
            "188/188 [==============================] - 2s 12ms/step - loss: 0.6669 - accuracy: 0.7673 - val_loss: 0.8917 - val_accuracy: 0.6923\n",
            "Epoch 14/50\n",
            "188/188 [==============================] - 2s 12ms/step - loss: 0.6262 - accuracy: 0.7862 - val_loss: 0.8413 - val_accuracy: 0.7109\n",
            "Epoch 15/50\n",
            "188/188 [==============================] - 2s 12ms/step - loss: 0.5690 - accuracy: 0.8025 - val_loss: 0.8193 - val_accuracy: 0.7243\n",
            "Epoch 16/50\n",
            "188/188 [==============================] - 3s 16ms/step - loss: 0.5505 - accuracy: 0.8082 - val_loss: 0.8541 - val_accuracy: 0.7003\n",
            "Epoch 17/50\n",
            "188/188 [==============================] - 3s 15ms/step - loss: 0.5175 - accuracy: 0.8179 - val_loss: 0.8362 - val_accuracy: 0.7176\n",
            "Epoch 18/50\n",
            "188/188 [==============================] - 2s 12ms/step - loss: 0.4972 - accuracy: 0.8292 - val_loss: 0.7751 - val_accuracy: 0.7450\n",
            "Epoch 19/50\n",
            "188/188 [==============================] - 2s 12ms/step - loss: 0.4503 - accuracy: 0.8483 - val_loss: 0.7986 - val_accuracy: 0.7343\n",
            "Epoch 20/50\n",
            "188/188 [==============================] - 2s 12ms/step - loss: 0.4302 - accuracy: 0.8499 - val_loss: 0.7926 - val_accuracy: 0.7410\n",
            "Epoch 21/50\n",
            "188/188 [==============================] - 3s 14ms/step - loss: 0.4155 - accuracy: 0.8573 - val_loss: 0.8952 - val_accuracy: 0.7143\n",
            "Epoch 22/50\n",
            "188/188 [==============================] - 3s 16ms/step - loss: 0.4128 - accuracy: 0.8608 - val_loss: 0.7609 - val_accuracy: 0.7510\n",
            "Epoch 23/50\n",
            "188/188 [==============================] - 2s 12ms/step - loss: 0.3647 - accuracy: 0.8716 - val_loss: 0.7174 - val_accuracy: 0.7690\n",
            "Epoch 24/50\n",
            "188/188 [==============================] - 2s 12ms/step - loss: 0.3389 - accuracy: 0.8870 - val_loss: 0.8169 - val_accuracy: 0.7644\n",
            "Epoch 25/50\n",
            "188/188 [==============================] - 2s 12ms/step - loss: 0.3217 - accuracy: 0.8942 - val_loss: 0.8647 - val_accuracy: 0.7417\n",
            "Epoch 26/50\n",
            "188/188 [==============================] - 2s 12ms/step - loss: 0.3449 - accuracy: 0.8822 - val_loss: 0.7939 - val_accuracy: 0.7710\n",
            "Epoch 27/50\n",
            "188/188 [==============================] - 3s 17ms/step - loss: 0.2899 - accuracy: 0.9017 - val_loss: 0.7582 - val_accuracy: 0.7730\n",
            "Epoch 28/50\n",
            "188/188 [==============================] - 3s 13ms/step - loss: 0.3118 - accuracy: 0.8925 - val_loss: 0.7475 - val_accuracy: 0.7757\n",
            "Epoch 29/50\n",
            "188/188 [==============================] - 2s 12ms/step - loss: 0.2588 - accuracy: 0.9117 - val_loss: 0.7677 - val_accuracy: 0.7797\n",
            "Epoch 30/50\n",
            "188/188 [==============================] - 2s 12ms/step - loss: 0.2494 - accuracy: 0.9132 - val_loss: 0.8031 - val_accuracy: 0.7810\n",
            "Epoch 31/50\n",
            "188/188 [==============================] - 2s 12ms/step - loss: 0.2544 - accuracy: 0.9169 - val_loss: 0.7484 - val_accuracy: 0.7891\n",
            "Epoch 32/50\n",
            "188/188 [==============================] - 3s 14ms/step - loss: 0.2242 - accuracy: 0.9252 - val_loss: 0.8148 - val_accuracy: 0.7724\n",
            "Epoch 33/50\n",
            "188/188 [==============================] - 3s 16ms/step - loss: 0.2241 - accuracy: 0.9227 - val_loss: 0.7569 - val_accuracy: 0.7870\n",
            "Epoch 34/50\n",
            "188/188 [==============================] - 2s 12ms/step - loss: 0.2193 - accuracy: 0.9284 - val_loss: 0.7945 - val_accuracy: 0.7790\n",
            "Epoch 35/50\n",
            "188/188 [==============================] - 2s 12ms/step - loss: 0.2012 - accuracy: 0.9316 - val_loss: 0.8033 - val_accuracy: 0.7877\n",
            "Epoch 36/50\n",
            "188/188 [==============================] - 2s 12ms/step - loss: 0.1584 - accuracy: 0.9468 - val_loss: 0.9078 - val_accuracy: 0.7737\n",
            "Epoch 37/50\n",
            "188/188 [==============================] - 2s 12ms/step - loss: 0.2618 - accuracy: 0.9107 - val_loss: 0.7897 - val_accuracy: 0.7744\n",
            "Epoch 38/50\n",
            "188/188 [==============================] - 3s 15ms/step - loss: 0.1880 - accuracy: 0.9359 - val_loss: 0.7996 - val_accuracy: 0.7830\n",
            "Epoch 39/50\n",
            "188/188 [==============================] - 3s 15ms/step - loss: 0.1469 - accuracy: 0.9493 - val_loss: 0.7701 - val_accuracy: 0.8057\n",
            "Epoch 40/50\n",
            "188/188 [==============================] - 2s 12ms/step - loss: 0.1643 - accuracy: 0.9464 - val_loss: 0.7991 - val_accuracy: 0.7897\n",
            "Epoch 41/50\n",
            "188/188 [==============================] - 2s 12ms/step - loss: 0.1326 - accuracy: 0.9549 - val_loss: 0.8671 - val_accuracy: 0.7864\n",
            "Epoch 42/50\n",
            "188/188 [==============================] - 2s 12ms/step - loss: 0.1267 - accuracy: 0.9588 - val_loss: 0.8556 - val_accuracy: 0.7877\n",
            "Epoch 43/50\n",
            "188/188 [==============================] - 2s 13ms/step - loss: 0.1467 - accuracy: 0.9518 - val_loss: 0.8223 - val_accuracy: 0.7944\n",
            "Epoch 44/50\n",
            "188/188 [==============================] - 3s 18ms/step - loss: 0.1555 - accuracy: 0.9469 - val_loss: 0.8198 - val_accuracy: 0.8044\n",
            "Epoch 45/50\n",
            "188/188 [==============================] - 2s 12ms/step - loss: 0.1218 - accuracy: 0.9626 - val_loss: 0.9253 - val_accuracy: 0.7837\n",
            "Epoch 46/50\n",
            "188/188 [==============================] - 2s 12ms/step - loss: 0.2393 - accuracy: 0.9219 - val_loss: 0.9030 - val_accuracy: 0.7797\n",
            "Epoch 47/50\n",
            "188/188 [==============================] - 2s 12ms/step - loss: 0.1534 - accuracy: 0.9499 - val_loss: 0.8426 - val_accuracy: 0.7837\n",
            "Epoch 48/50\n",
            "188/188 [==============================] - 2s 12ms/step - loss: 0.0753 - accuracy: 0.9798 - val_loss: 0.8369 - val_accuracy: 0.8044\n",
            "Epoch 49/50\n",
            "188/188 [==============================] - 3s 16ms/step - loss: 0.0829 - accuracy: 0.9753 - val_loss: 0.9225 - val_accuracy: 0.7870\n",
            "Epoch 50/50\n",
            "188/188 [==============================] - 3s 14ms/step - loss: 0.1233 - accuracy: 0.9594 - val_loss: 0.8507 - val_accuracy: 0.7971\n"
          ]
        }
      ]
    },
    {
      "cell_type": "code",
      "source": [
        "# plot accuracy and error as a function of the epochs\n",
        "plot_history(history)"
      ],
      "metadata": {
        "id": "cyX86JwlySCg",
        "colab": {
          "base_uri": "https://localhost:8080/",
          "height": 295
        },
        "outputId": "4a51c258-b6a4-4f0f-97ea-f1a900725212"
      },
      "execution_count": 16,
      "outputs": [
        {
          "output_type": "display_data",
          "data": {
            "text/plain": [
              "<Figure size 432x288 with 2 Axes>"
            ],
            "image/png": "[encoded data removed]"
          },
          "metadata": {
            "needs_background": "light"
          }
        }
      ]
    },
    {
      "cell_type": "code",
      "source": [
        "# evaluate model on Test Set\n",
        "test_loss, test_acc = model.evaluate(X_test, y_test, verbose=2)\n",
        "print('\\nTest accuracy:', test_acc)"
      ],
      "metadata": {
        "id": "w1vq2hz_yStT",
        "colab": {
          "base_uri": "https://localhost:8080/"
        },
        "outputId": "c7fa31f8-ab82-475e-e96c-23aa78c90647"
      },
      "execution_count": 17,
      "outputs": [
        {
          "output_type": "stream",
          "name": "stdout",
          "text": [
            "79/79 - 1s - loss: 0.9285 - accuracy: 0.7857 - 529ms/epoch - 7ms/step\n",
            "\n",
            "Test accuracy: 0.7857428789138794\n"
          ]
        }
      ]
    },
    {
      "cell_type": "code",
      "source": [
        "model.save(\"/content/drive/MyDrive/Music_Genre_Dataset/Music_Genre_LSTM\")"
      ],
      "metadata": {
        "id": "T3cp-GHnw8ks",
        "outputId": "09e7b9ec-5a58-4ecb-8d6e-b8152e7740b7",
        "colab": {
          "base_uri": "https://localhost:8080/"
        }
      },
      "execution_count": 19,
      "outputs": [
        {
          "output_type": "stream",
          "name": "stderr",
          "text": [
            "WARNING:absl:Found untraced functions such as lstm_cell_4_layer_call_fn, lstm_cell_4_layer_call_and_return_conditional_losses, lstm_cell_5_layer_call_fn, lstm_cell_5_layer_call_and_return_conditional_losses while saving (showing 4 of 4). These functions will not be directly callable after loading.\n"
          ]
        }
      ]
    },
    {
      "cell_type": "code",
      "source": [
        "model.save(\"/content/drive/MyDrive/Music_Genre_Dataset/Music_Genre_LSTM.h5\")"
      ],
      "metadata": {
        "id": "5lfGGWzWw6Wz"
      },
      "execution_count": 20,
      "outputs": []
    }
  ]
}